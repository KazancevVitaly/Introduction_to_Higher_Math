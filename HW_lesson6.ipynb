{
 "cells": [
  {
   "cell_type": "markdown",
   "id": "cb640c11",
   "metadata": {},
   "source": [
    "# ДЗ урока 6\n",
    "## Казанцев Виталий"
   ]
  },
  {
   "cell_type": "markdown",
   "id": "ad526cd3",
   "metadata": {},
   "source": [
    "### 1 Задание (теорема сложения)\n",
    "***Найти вероятность выпадения 2 или 5 очков при подбрасывании игральной кости, на гранях которой имеются соответственно 1,2,3,4,5 и 6 очков.***\n"
   ]
  },
  {
   "cell_type": "markdown",
   "id": "c6d364b1",
   "metadata": {},
   "source": [
    "### Ответ:\n",
    "Пусть вероятность выпадения 2 A = 1/6, а вероятность выпадения 5 B = 1/6. Тогда вероятность выпадения A или B равна P = A + B = 1/6 + 1/6 = 1/3"
   ]
  },
  {
   "cell_type": "code",
   "execution_count": 1,
   "id": "d86cf4f6",
   "metadata": {},
   "outputs": [
    {
     "data": {
      "text/plain": [
       "Fraction(1, 3)"
      ]
     },
     "execution_count": 1,
     "metadata": {},
     "output_type": "execute_result"
    }
   ],
   "source": [
    "from fractions import Fraction\n",
    "\n",
    "A = Fraction('1/6')\n",
    "B = Fraction('1/6')\n",
    "P = A + B\n",
    "P"
   ]
  },
  {
   "cell_type": "markdown",
   "id": "c1d425eb",
   "metadata": {},
   "source": [
    "### 2 Задание (теорема умножения)\n",
    "***Найти вероятность того, что при двух подбрасываниях той же самой игральной кости сначала выпадет 2, а затем 5.***\n"
   ]
  },
  {
   "cell_type": "markdown",
   "id": "91315848",
   "metadata": {},
   "source": [
    "### Ответ:\n",
    "P = A*B = 1/6 * 1/6 = 1/36"
   ]
  },
  {
   "cell_type": "code",
   "execution_count": 2,
   "id": "f99c1512",
   "metadata": {},
   "outputs": [
    {
     "data": {
      "text/plain": [
       "Fraction(1, 36)"
      ]
     },
     "execution_count": 2,
     "metadata": {},
     "output_type": "execute_result"
    }
   ],
   "source": [
    "P = A*B\n",
    "P"
   ]
  },
  {
   "cell_type": "markdown",
   "id": "cd43bd6f",
   "metadata": {},
   "source": [
    "### 3 Задание \n",
    "**Найти вероятность выпадения 2 и 5 очков при двух подбрасываниях той же самой игральной игральной кости. Обратите внимание на порядок выпадения костей!**\n"
   ]
  },
  {
   "cell_type": "markdown",
   "id": "82d296ec",
   "metadata": {},
   "source": [
    "### Ответ:\n",
    "Не совсем понял, чем эта задача отличется от второй. По всей видимости имеется ввиду варианты ввыпадения 2 и 2, или 2 и 5. или 5 и 5, или 5 и 2. Тогда\n",
    "P = AA + AB + BA + BB = 4/36 = 1/9"
   ]
  },
  {
   "cell_type": "code",
   "execution_count": 3,
   "id": "326d3eec",
   "metadata": {},
   "outputs": [
    {
     "data": {
      "text/plain": [
       "Fraction(1, 9)"
      ]
     },
     "execution_count": 3,
     "metadata": {},
     "output_type": "execute_result"
    }
   ],
   "source": [
    "P = A*A + A*B + B*A + B*B\n",
    "P"
   ]
  },
  {
   "cell_type": "markdown",
   "id": "952042d9",
   "metadata": {},
   "source": [
    "Если же имеется ввиду варианты 2 и 5, или 5 и 2, тогда  P = AB + BA = 1/18"
   ]
  },
  {
   "cell_type": "code",
   "execution_count": 4,
   "id": "515290ea",
   "metadata": {},
   "outputs": [
    {
     "data": {
      "text/plain": [
       "Fraction(1, 18)"
      ]
     },
     "execution_count": 4,
     "metadata": {},
     "output_type": "execute_result"
    }
   ],
   "source": [
    "P = A*B + B*A\n",
    "P"
   ]
  },
  {
   "cell_type": "markdown",
   "id": "a0ad2001",
   "metadata": {},
   "source": [
    "### 4 Задание  (Геометрическая вероятность +интервалы)\n",
    "***На отрезке AB длиной 20 см наугад отметили точку C. Какова вероятность, что она находится на расстоянии не более 9 см от точки А и не более 15 см от точки В?***\n"
   ]
  },
  {
   "cell_type": "code",
   "execution_count": 5,
   "id": "9d0a25e1",
   "metadata": {},
   "outputs": [],
   "source": [
    "import matplotlib\n",
    "from matplotlib import pyplot as plt\n",
    "%matplotlib inline\n",
    "%config InllineBackend.figure_format='svg'"
   ]
  },
  {
   "cell_type": "code",
   "execution_count": 6,
   "id": "f526eeee",
   "metadata": {},
   "outputs": [
    {
     "data": {
      "text/plain": [
       "<matplotlib.collections.PathCollection at 0x7fb64bacf2e0>"
      ]
     },
     "execution_count": 6,
     "metadata": {},
     "output_type": "execute_result"
    },
    {
     "data": {
      "image/png": "[encoded data removed]",
      "text/plain": [
       "<Figure size 432x288 with 1 Axes>"
      ]
     },
     "metadata": {
      "needs_background": "light"
     },
     "output_type": "display_data"
    }
   ],
   "source": [
    "plt.hlines(y=0, xmin=0, xmax=20)\n",
    "plt.hlines(y=0, xmin=5, xmax=9, color='red')\n",
    "plt.scatter(0,0, color='blue')\n",
    "plt.scatter(20,0, color='blue')\n",
    "plt.scatter(5,0, color='black', marker='x')\n",
    "plt.scatter(9,0, color='black', marker='x')"
   ]
  },
  {
   "cell_type": "markdown",
   "id": "4c1a6915",
   "metadata": {},
   "source": [
    "Какова вероятность, что точка С попадет в красную область на графике?\n",
    "Длина красной области 4 см, а длина отрезка 20 см., тогда P = 4/20 = 1/5"
   ]
  },
  {
   "cell_type": "markdown",
   "id": "6bfbbce6",
   "metadata": {},
   "source": [
    "### 5 Задание. \n",
    "***Телефонный номер состоит из 7 цифр. Какова вероятность, \n",
    "что это номер 8882227?***\n"
   ]
  },
  {
   "cell_type": "markdown",
   "id": "8a52611b",
   "metadata": {},
   "source": [
    "### Ответ:\n",
    "Так как в задаче не сказано может ли номер начинаться с нуля или 9, то вероятность составления номера 8882227 составит P=1/10^7. Если же учесть общепринятые нормы, когда номер телефона не может начинаться с нуля или девятки, тогда вероятность составит P=1/8000000"
   ]
  },
  {
   "cell_type": "markdown",
   "id": "273598b9",
   "metadata": {},
   "source": [
    "### 6 Задание. \n",
    "Набирая номер телефона, абонент забыл 2 последние цифры, и, помня только то, что эти цифры различны и среди них нет нуля, стал набирать их наудачу. Сколько вариантов ему надо перебрать, чтобы наверняка найти нужный номер? Какова вероятность того, что он угадает номер с первого раза?\n",
    "\n"
   ]
  },
  {
   "cell_type": "markdown",
   "id": "3bb958c9",
   "metadata": {},
   "source": [
    "### Ответ:\n",
    "9x9 - 9 = 81 - 9 = 78"
   ]
  },
  {
   "cell_type": "markdown",
   "id": "2ab54194",
   "metadata": {},
   "source": [
    "### 7 Задание** (необязательное) \n",
    "***Чёрный куб покрасили снаружи белой краской, затем разрезали на 27 одинаковых маленьких кубиков и как попало сложили из них большой куб. С какой вероятностью  все грани этого куба будут белыми?***\n"
   ]
  },
  {
   "cell_type": "markdown",
   "id": "9f10571b",
   "metadata": {},
   "source": [
    "### Ответ:\n",
    "Это белый кубик рубика. Получается 27 кубиков у каждого по 6 граней. Всего 162 грани. При этом 8 кубиков с тремя белыми гранями, 12 кубиков с двумя белыми гранями, 6 кубиков с одной белой гранью и один кубик полностью черный. \n",
    "Для каждого маленького кубика возможно 24 варианта установки при сборке большого кубика\n",
    "Получается ((8!х3^8)x(12!x2^12)x(6!x4^6)x24)/27!X24^27"
   ]
  }
 ],
 "metadata": {
  "kernelspec": {
   "display_name": "Python 3",
   "language": "python",
   "name": "python3"
  },
  "language_info": {
   "codemirror_mode": {
    "name": "ipython",
    "version": 3
   },
   "file_extension": ".py",
   "mimetype": "text/x-python",
   "name": "python",
   "nbconvert_exporter": "python",
   "pygments_lexer": "ipython3",
   "version": "3.8.8"
  }
 },
 "nbformat": 4,
 "nbformat_minor": 5
}
